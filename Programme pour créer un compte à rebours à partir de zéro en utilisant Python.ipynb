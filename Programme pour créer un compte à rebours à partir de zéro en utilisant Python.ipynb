{
 "cells": [
  {
   "cell_type": "code",
   "execution_count": 4,
   "id": "66c6a542",
   "metadata": {},
   "outputs": [
    {
     "name": "stdout",
     "output_type": "stream",
     "text": [
      "saisir la durée du compte à rebours4587\n"
     ]
    }
   ],
   "source": [
    "import time \n",
    "t=input(\"saisir la durée du compte à rebours \")\n",
    "def countdown(t):\n",
    "    t=int(t)\n",
    "    while t>0:\n",
    "        result = divmod(t,60)\n",
    "        sortie = result.timeformat(0, mn, sec)\n",
    "        "
   ]
  },
  {
   "cell_type": "code",
   "execution_count": null,
   "id": "d16b6d2d",
   "metadata": {},
   "outputs": [],
   "source": []
  }
 ],
 "metadata": {
  "kernelspec": {
   "display_name": "Python 3 (ipykernel)",
   "language": "python",
   "name": "python3"
  },
  "language_info": {
   "codemirror_mode": {
    "name": "ipython",
    "version": 3
   },
   "file_extension": ".py",
   "mimetype": "text/x-python",
   "name": "python",
   "nbconvert_exporter": "python",
   "pygments_lexer": "ipython3",
   "version": "3.9.7"
  }
 },
 "nbformat": 4,
 "nbformat_minor": 5
}
