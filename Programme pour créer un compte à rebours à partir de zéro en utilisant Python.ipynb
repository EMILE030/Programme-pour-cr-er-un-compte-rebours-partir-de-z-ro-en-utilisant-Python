{
 "cells": [
  {
   "cell_type": "code",
   "execution_count": 17,
   "id": "66c6a542",
   "metadata": {},
   "outputs": [
    {
     "name": "stdout",
     "output_type": "stream",
     "text": [
      "saisir la durée du compte à rebours 25\n",
      "Fire in the hole\n"
     ]
    }
   ],
   "source": [
    "import time \n",
    "t=input(\"saisir la durée du compte à rebours \")\n",
    "def countdown(t):\n",
    "    t=int(t)\n",
    "    while t>0:\n",
    "        result = divmod(t,60)\n",
    "        print(\"%02d:%02d\" % (result[0], result[1]), end=\"\\r\")\n",
    "        time.sleep(1)\n",
    "        t -= 1\n",
    "    if t==0:\n",
    "        print(\"Fire in the hole\")\n",
    "countdown(t)\n",
    "        "
   ]
  },
  {
   "cell_type": "code",
   "execution_count": null,
   "id": "37ce9f87",
   "metadata": {},
   "outputs": [],
   "source": []
  }
 ],
 "metadata": {
  "kernelspec": {
   "display_name": "Python 3 (ipykernel)",
   "language": "python",
   "name": "python3"
  },
  "language_info": {
   "codemirror_mode": {
    "name": "ipython",
    "version": 3
   },
   "file_extension": ".py",
   "mimetype": "text/x-python",
   "name": "python",
   "nbconvert_exporter": "python",
   "pygments_lexer": "ipython3",
   "version": "3.9.7"
  }
 },
 "nbformat": 4,
 "nbformat_minor": 5
}
